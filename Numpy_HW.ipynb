{
 "cells": [
  {
   "cell_type": "code",
   "execution_count": 106,
   "id": "00cfd76a",
   "metadata": {},
   "outputs": [],
   "source": [
    "import numpy as np"
   ]
  },
  {
   "cell_type": "code",
   "execution_count": 107,
   "id": "f32de702",
   "metadata": {},
   "outputs": [],
   "source": [
    "# Задание 1\n",
    "def result_mark(weights: np.array, marks: np.array) -> int:\n",
    "    return int(weights @ marks)"
   ]
  },
  {
   "cell_type": "code",
   "execution_count": 108,
   "id": "957f5579",
   "metadata": {},
   "outputs": [],
   "source": [
    "weights = np.array([0.3, 0.4, 0.2, 0.1])\n",
    "marks = np.array([7, 10, 8, 6])\n",
    "\n",
    "assert result_mark(weights, marks) == 8"
   ]
  },
  {
   "cell_type": "code",
   "execution_count": 109,
   "id": "03c8214d",
   "metadata": {},
   "outputs": [],
   "source": [
    "# Задание 2\n",
    "def change_array(array: np.array, number: int) -> np.array:\n",
    "    array[::3] = number\n",
    "    return array\n"
   ]
  },
  {
   "cell_type": "code",
   "execution_count": 110,
   "id": "6e06007b",
   "metadata": {},
   "outputs": [],
   "source": [
    "array = np.array([3, 5, 1, 0, -3, 22, 213436])\n",
    "number = -111\n",
    "\n",
    "assert np.allclose(change_array(array, number), np.array([-111, 5, 1, -111, -3, 22, -111]))"
   ]
  },
  {
   "cell_type": "code",
   "execution_count": 111,
   "id": "c25fd445",
   "metadata": {},
   "outputs": [],
   "source": [
    "array = np.array([3, 14, 15, 92, 6])\n",
    "number = 8\n",
    "\n",
    "assert np.allclose(change_array(array, number), np.array([8, 14, 15, 8, 6]))"
   ]
  },
  {
   "cell_type": "code",
   "execution_count": 112,
   "id": "5c3f1044",
   "metadata": {},
   "outputs": [],
   "source": [
    "# Задание 3\n",
    "def find_close(array1: np.array, array2: np.array,\n",
    "               precision: float) -> np.array:\n",
    "    return np.array(np.where(abs(array1 - array2) <= precision))[0]\n"
   ]
  },
  {
   "cell_type": "code",
   "execution_count": 113,
   "id": "5d8b29dc",
   "metadata": {},
   "outputs": [],
   "source": [
    "array1 = np.array([1.5, 0.5, 2, -4.1, -3, 6, -1])\n",
    "array2 = np.array([1.2, 0.5, 1, -4.0,  3, 0, -1.2])\n",
    "precision = 0.5\n",
    "res = find_close(array1, array2, precision)\n",
    "\n",
    "assert res.ndim == 1\n",
    "assert np.allclose(res, np.array([0, 1, 3, 6]))"
   ]
  },
  {
   "cell_type": "code",
   "execution_count": 114,
   "id": "a4cb997a",
   "metadata": {},
   "outputs": [],
   "source": [
    "array1 = np.array([3.1415, 2.7182, 1.6180, 6.6261])\n",
    "array2 = np.array([6.6730, 1.3807, -1,     6.0222])\n",
    "precision = 1.7\n",
    "res = find_close(array1, array2, precision)\n",
    "\n",
    "assert res.ndim == 1\n",
    "assert np.allclose(res, np.array([1, 3]))"
   ]
  },
  {
   "cell_type": "code",
   "execution_count": 115,
   "id": "6a410462",
   "metadata": {},
   "outputs": [],
   "source": [
    "# Задание 4\n",
    "def block_matrix(block: np.array) -> np.array:\n",
    "    res_matrix = np.zeros((2 * len(block), 2 * len(block[0])))\n",
    "    res_matrix[:2, :3] = block\n",
    "    res_matrix[:2, 3:] = block\n",
    "    res_matrix[2:, :3] = block\n",
    "    res_matrix[2:, 3:] = block\n",
    "    return res_matrix\n"
   ]
  },
  {
   "cell_type": "code",
   "execution_count": 116,
   "id": "18dd2879",
   "metadata": {},
   "outputs": [],
   "source": [
    "block = np.array([[1, 3, 3], [7, 0, 0]])\n",
    "\n",
    "assert np.allclose(\n",
    "    block_matrix(block),\n",
    "    np.array([[1, 3, 3, 1, 3, 3],\n",
    "              [7, 0, 0, 7, 0, 0],\n",
    "              [1, 3, 3, 1, 3, 3],\n",
    "              [7, 0, 0, 7, 0, 0]])\n",
    ")"
   ]
  },
  {
   "cell_type": "code",
   "execution_count": 132,
   "id": "f0c8fc45",
   "metadata": {},
   "outputs": [],
   "source": [
    "# Задание 5\n",
    "def diag_prod(matrix: np.array) -> int:\n",
    "    k = np.diag(matrix)\n",
    "    res = np.prod(k[k != 0])\n",
    "    return res"
   ]
  },
  {
   "cell_type": "code",
   "execution_count": 133,
   "id": "0db44b6c",
   "metadata": {},
   "outputs": [],
   "source": [
    "matrix = np.array([[0, 1, 2, 3],\n",
    "                   [4, 5, 6, 7],\n",
    "                   [8, 9, 10, 11],\n",
    "                   [12, 13, 14, 15]])\n",
    "\n",
    "assert diag_prod(matrix) == 750"
   ]
  },
  {
   "cell_type": "code",
   "execution_count": 149,
   "id": "02f3a514",
   "metadata": {},
   "outputs": [],
   "source": [
    "def normalize(matrix: np.array) -> np.array:\n",
    "    m = np.mean(matrix, axis=0)\n",
    "    ones = np.ones((len(matrix), len(matrix[0])))\n",
    "    ones * m\n",
    "    temp = matrix - ones * m\n",
    "    temp\n",
    "    sigm = np.std(matrix, axis=0)\n",
    "    sigm = ones * sigm\n",
    "    res = temp / sigm\n",
    "    return res\n"
   ]
  },
  {
   "cell_type": "code",
   "execution_count": 150,
   "id": "6cfcb3d0",
   "metadata": {},
   "outputs": [],
   "source": [
    "matrix = np.array([[1, 4, 4200], [0, 10, 5000], [1, 2, 1000]])\n",
    "\n",
    "assert np.allclose(\n",
    "    normalize(matrix),\n",
    "    np.array([[ 0.7071, -0.39223,  0.46291],\n",
    "              [-1.4142,  1.37281,  0.92582],\n",
    "              [ 0.7071, -0.98058, -1.38873]])\n",
    ")"
   ]
  },
  {
   "cell_type": "code",
   "execution_count": 151,
   "id": "4287d5e5",
   "metadata": {},
   "outputs": [],
   "source": [
    "matrix = np.array([[-7, 2, 42], [2, 10, 50], [5, 4, 10]])\n",
    "\n",
    "assert np.allclose(\n",
    "    normalize(matrix),\n",
    "    np.array([[-1.37281, -0.98058,  0.46291],\n",
    "              [ 0.39223,  1.37281,  0.92582],\n",
    "              [ 0.98058, -0.39223, -1.38873]])\n",
    ")"
   ]
  },
  {
   "cell_type": "code",
   "execution_count": 188,
   "id": "8c75016e",
   "metadata": {},
   "outputs": [],
   "source": [
    "# Задание 7\n",
    "def prevZeroMax(matrix: np.array) -> int:\n",
    "    k = np.where(matrix == 0)\n",
    "    k = k + np.ones(len(k), dtype=type(coefs[0]))\n",
    "    k = k[0]\n",
    "    k = k[k < len(coefs)]\n",
    "    temp = matrix[k]\n",
    "    return np.max(temp)\n"
   ]
  },
  {
   "cell_type": "code",
   "execution_count": 189,
   "id": "4397e00b",
   "metadata": {},
   "outputs": [],
   "source": [
    "coefs = np.array([6, 2, 0, 3, 0, 0, 5, 7, 0])\n",
    "\n",
    "assert  prevZeroMax(coefs) == 5"
   ]
  },
  {
   "cell_type": "code",
   "execution_count": 190,
   "id": "acebeb82",
   "metadata": {},
   "outputs": [],
   "source": [
    "coefs = np.array([1, 0, 1, 0, 4, 2, 0])\n",
    "\n",
    "assert prevZeroMax(coefs) == 4"
   ]
  },
  {
   "cell_type": "code",
   "execution_count": 202,
   "id": "8a75485b",
   "metadata": {},
   "outputs": [],
   "source": [
    "# Задание 8\n",
    "def make_symmetric(matrix: np.array) -> np.array:\n",
    "    diag = np.eye(len(matrix), dtype=type(matrix[0][0])) * matrix\n",
    "    res = matrix + matrix.T - diag\n",
    "    return res\n"
   ]
  },
  {
   "cell_type": "code",
   "execution_count": 203,
   "id": "f07f880b",
   "metadata": {},
   "outputs": [],
   "source": [
    "matrix = np.array([[1, 2, 3, 4], [0, 5, 6, 7], [0, 0, 8, 9], [0, 0, 0, 10]])\n",
    "\n",
    "assert np.allclose(\n",
    "    make_symmetric(matrix),\n",
    "    np.array([[ 1,  2,  3,  4],\n",
    "              [ 2,  5,  6,  7],\n",
    "              [ 3,  6,  8,  9],\n",
    "              [ 4,  7,  9, 10]])\n",
    ")"
   ]
  },
  {
   "cell_type": "code",
   "execution_count": 204,
   "id": "fde40849",
   "metadata": {},
   "outputs": [],
   "source": [
    "matrix = np.array([[10, 21, 32, 49], [0, 53, 62, 78], [0, 0, 82, 92], [0, 0, 0, 10]])\n",
    "\n",
    "assert np.allclose(\n",
    "    make_symmetric(matrix),\n",
    "    np.array([[10, 21, 32, 49],\n",
    "              [21, 53, 62, 78],\n",
    "              [32, 62, 82, 92],\n",
    "              [49, 78, 92, 10]])\n",
    ")"
   ]
  },
  {
   "cell_type": "code",
   "execution_count": 229,
   "id": "dd1fdccd",
   "metadata": {},
   "outputs": [],
   "source": [
    "# Задание 9\n",
    "def construct_matrix(m: int, a: int, b: int) -> np.array:\n",
    "    k = np.arange(b + 1)\n",
    "    temp = k[a:b + 1]\n",
    "    ones = np.ones((m, len(temp)), dtype=type(a))\n",
    "    return ones * temp\n"
   ]
  },
  {
   "cell_type": "code",
   "execution_count": 230,
   "id": "5d27ab4c",
   "metadata": {},
   "outputs": [],
   "source": [
    "m = 5\n",
    "a = 3\n",
    "b = 10\n",
    "\n",
    "assert np.allclose(\n",
    "    construct_matrix(m, a, b),\n",
    "    np.array([[ 3,  4,  5,  6,  7,  8,  9, 10],\n",
    "              [ 3,  4,  5,  6,  7,  8,  9, 10],\n",
    "              [ 3,  4,  5,  6,  7,  8,  9, 10],\n",
    "              [ 3,  4,  5,  6,  7,  8,  9, 10],\n",
    "              [ 3,  4,  5,  6,  7,  8,  9, 10]])\n",
    ")"
   ]
  },
  {
   "cell_type": "code",
   "execution_count": 231,
   "id": "3edeadbe",
   "metadata": {},
   "outputs": [],
   "source": [
    "m = 3\n",
    "a = 2\n",
    "b = 6\n",
    "\n",
    "assert np.allclose(\n",
    "    construct_matrix(m, a, b),\n",
    "    np.array([[2, 3, 4, 5, 6],\n",
    "              [2, 3, 4, 5, 6],\n",
    "              [2, 3, 4, 5, 6]])\n",
    ")"
   ]
  },
  {
   "cell_type": "code",
   "execution_count": 235,
   "id": "5b9debb8",
   "metadata": {},
   "outputs": [],
   "source": [
    "# Задание 10\n",
    "def cosine_similarity(vec1: np.array, vec2: np.array) -> float:\n",
    "    res = vec1 @ vec2 / (np.linalg.norm(vec1) * np.linalg.norm(vec2))\n",
    "    return res\n"
   ]
  },
  {
   "cell_type": "code",
   "execution_count": 236,
   "id": "d463ff40",
   "metadata": {},
   "outputs": [],
   "source": [
    "vec1 = np.array([-2, 1,  0, -5, 4, 3, -3])\n",
    "vec2 = np.array([ 0, 2, -2, 10, 6, 0,  0])\n",
    "\n",
    "assert np.allclose(cosine_similarity(vec1, vec2), -0.25)"
   ]
  },
  {
   "cell_type": "code",
   "execution_count": 237,
   "id": "e71d2bd4",
   "metadata": {},
   "outputs": [],
   "source": [
    "vec1 = np.array([-4, 2,  9, -8, 9, 0, -2])\n",
    "vec2 = np.array([ 3, 2, -4, -1, 3, 2,  2])\n",
    "\n",
    "assert np.allclose(cosine_similarity(vec1, vec2), -0.119929)"
   ]
  },
  {
   "cell_type": "code",
   "execution_count": null,
   "id": "3c273451",
   "metadata": {},
   "outputs": [],
   "source": []
  }
 ],
 "metadata": {
  "kernelspec": {
   "display_name": "Python 3 (ipykernel)",
   "language": "python",
   "name": "python3"
  },
  "language_info": {
   "codemirror_mode": {
    "name": "ipython",
    "version": 3
   },
   "file_extension": ".py",
   "mimetype": "text/x-python",
   "name": "python",
   "nbconvert_exporter": "python",
   "pygments_lexer": "ipython3",
   "version": "3.9.7"
  }
 },
 "nbformat": 4,
 "nbformat_minor": 5
}
